{
  "nbformat": 4,
  "nbformat_minor": 0,
  "metadata": {
    "colab": {
      "provenance": [],
      "authorship_tag": "ABX9TyM+4PW7oCsPm07g5eeJ70ev",
      "include_colab_link": true
    },
    "kernelspec": {
      "name": "python3",
      "display_name": "Python 3"
    },
    "language_info": {
      "name": "python"
    }
  },
  "cells": [
    {
      "cell_type": "markdown",
      "metadata": {
        "id": "view-in-github",
        "colab_type": "text"
      },
      "source": [
        "<a href=\"https://colab.research.google.com/github/breef-droid/advent_of_code_22/blob/main/advent_of_code_22.ipynb\" target=\"_parent\"><img src=\"https://colab.research.google.com/assets/colab-badge.svg\" alt=\"Open In Colab\"/></a>"
      ]
    },
    {
      "cell_type": "markdown",
      "source": [
        "# Advent of Code 2022\n",
        "## Day 1: Calorie Counting\n",
        "https://adventofcode.com/2022/day/1"
      ],
      "metadata": {
        "id": "w_gATYOiHWs6"
      }
    },
    {
      "cell_type": "code",
      "execution_count": null,
      "metadata": {
        "id": "8OZHWMbX5S6_"
      },
      "outputs": [],
      "source": [
        "with open(\"input.txt\") as f:\n",
        "    data = f.read().split('\\n')\n",
        "\n",
        "data"
      ]
    },
    {
      "cell_type": "code",
      "source": [
        "calorie_list = []\n",
        "temp = []\n",
        "for value in data:\n",
        "    try: \n",
        "        calorie = int(value)\n",
        "        temp.append(calorie)\n",
        "    except ValueError:\n",
        "        calorie_list.append(sum(temp))\n",
        "        temp = []\n",
        "\n",
        "max(calorie_list)"
      ],
      "metadata": {
        "colab": {
          "base_uri": "https://localhost:8080/"
        },
        "id": "D8tbGeGaIDZJ",
        "outputId": "422e9f83-c136-4fbc-df2f-5f5df2f325f4"
      },
      "execution_count": 14,
      "outputs": [
        {
          "output_type": "execute_result",
          "data": {
            "text/plain": [
              "71780"
            ]
          },
          "metadata": {},
          "execution_count": 14
        }
      ]
    },
    {
      "cell_type": "code",
      "source": [],
      "metadata": {
        "id": "kFW2HxbjIyCU"
      },
      "execution_count": null,
      "outputs": []
    }
  ]
}